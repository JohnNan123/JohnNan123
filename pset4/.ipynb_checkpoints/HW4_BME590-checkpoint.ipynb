{
 "cells": [
  {
   "cell_type": "code",
   "execution_count": 1,
   "id": "2f21f12c",
   "metadata": {},
   "outputs": [],
   "source": [
    "import numpy as np\n",
    "import scipy.stats as stats\n",
    "import matplotlib.pyplot as plt"
   ]
  },
  {
   "cell_type": "code",
   "execution_count": 2,
   "id": "abf2b709",
   "metadata": {},
   "outputs": [],
   "source": [
    "gridrows = np.linspace( 100.0,   5.0, 20)   # rows i of the grid are sigma, std. dev.\n",
    "gridcols = np.linspace(-100.,  100.0, 21)   # columns j of the grid are mu, mean (location)\n",
    "nrows    = len(gridrows)\n",
    "ncols    = len(gridcols)"
   ]
  },
  {
   "cell_type": "code",
   "execution_count": null,
   "id": "775f04b5",
   "metadata": {},
   "outputs": [],
   "source": [
    "def beginner(X, sigma): \n",
    "    p_X_mu = [np.prod(stats.norm.pdf(x, loc=mu, scale=2)) for mu in gridrows]\n",
    "    "
   ]
  }
 ],
 "metadata": {
  "kernelspec": {
   "display_name": "Python 3 (ipykernel)",
   "language": "python",
   "name": "python3"
  },
  "language_info": {
   "codemirror_mode": {
    "name": "ipython",
    "version": 3
   },
   "file_extension": ".py",
   "mimetype": "text/x-python",
   "name": "python",
   "nbconvert_exporter": "python",
   "pygments_lexer": "ipython3",
   "version": "3.9.12"
  }
 },
 "nbformat": 4,
 "nbformat_minor": 5
}
