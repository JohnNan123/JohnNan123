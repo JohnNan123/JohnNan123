{
 "cells": [
  {
   "cell_type": "code",
   "execution_count": 1,
   "metadata": {},
   "outputs": [],
   "source": [
    "import meshio"
   ]
  },
  {
   "cell_type": "code",
   "execution_count": 2,
   "metadata": {},
   "outputs": [],
   "source": [
    "import os\n",
    "import glob"
   ]
  },
  {
   "cell_type": "code",
   "execution_count": 8,
   "metadata": {},
   "outputs": [
    {
     "data": {
      "text/html": [
       "<pre style=\"white-space:pre;overflow-x:auto;line-height:normal;font-family:Menlo,'DejaVu Sans Mono',consolas,'Courier New',monospace\"><span style=\"color: #808000; text-decoration-color: #808000; font-weight: bold\">Warning:</span><span style=\"color: #808000; text-decoration-color: #808000\"> File contains cells that meshio cannot handle </span><span style=\"color: #808000; text-decoration-color: #808000; font-weight: bold\">(</span><span style=\"color: #808000; text-decoration-color: #808000\">type </span><span style=\"color: #808000; text-decoration-color: #808000; font-weight: bold\">11</span><span style=\"color: #808000; text-decoration-color: #808000; font-weight: bold\">)</span><span style=\"color: #808000; text-decoration-color: #808000\">.</span>\n",
       "</pre>\n"
      ],
      "text/plain": [
       "\u001b[1;33mWarning:\u001b[0m\u001b[33m File contains cells that meshio cannot handle \u001b[0m\u001b[1;33m(\u001b[0m\u001b[33mtype \u001b[0m\u001b[1;33m11\u001b[0m\u001b[1;33m)\u001b[0m\u001b[33m.\u001b[0m\n"
      ]
     },
     "metadata": {},
     "output_type": "display_data"
    },
    {
     "data": {
      "text/plain": [
       "array([[-346.7709   ,   -8.2874   ,    4.45886  ],\n",
       "       [-346.3209   ,   -8.2874   ,    4.45886  ],\n",
       "       [-346.7709   ,   -7.8374   ,    4.45886  ],\n",
       "       ...,\n",
       "       [-342.2709   ,   -7.8374   ,   13.458859 ],\n",
       "       [-334.6209   ,   -8.2874   ,   13.458859 ],\n",
       "       [-342.2709   ,   -7.3873997,   13.458859 ]], dtype=float32)"
      ]
     },
     "execution_count": 8,
     "metadata": {},
     "output_type": "execute_result"
    }
   ],
   "source": [
    "filename = 'vis_a2p95_s40_n230p0_0_3p50.iter04170000/dvis.0000000.vtu'\n",
    "\n",
    "mesh = meshio.read(filename)\n",
    "mesh.points"
   ]
  },
  {
   "cell_type": "code",
   "execution_count": 15,
   "metadata": {},
   "outputs": [
    {
     "data": {
      "text/plain": [
       "{}"
      ]
     },
     "execution_count": 15,
     "metadata": {},
     "output_type": "execute_result"
    }
   ],
   "source": [
    "mesh.point_data"
   ]
  }
 ],
 "metadata": {
  "kernelspec": {
   "display_name": "Python 3.9.12 ('Math')",
   "language": "python",
   "name": "python3"
  },
  "language_info": {
   "codemirror_mode": {
    "name": "ipython",
    "version": 3
   },
   "file_extension": ".py",
   "mimetype": "text/x-python",
   "name": "python",
   "nbconvert_exporter": "python",
   "pygments_lexer": "ipython3",
   "version": "3.9.12"
  },
  "orig_nbformat": 4,
  "vscode": {
   "interpreter": {
    "hash": "ac74b973d8bad8198e88f906e26425d8dc7abbd56adb2f25299ae655b3a5cdbd"
   }
  }
 },
 "nbformat": 4,
 "nbformat_minor": 2
}
