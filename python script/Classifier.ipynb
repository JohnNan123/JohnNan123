{
 "cells": [
  {
   "cell_type": "markdown",
   "id": "dfd7f848",
   "metadata": {},
   "source": [
    "## To classify and draw a phase diagram\n",
    "\n",
    "Initially, we can read the vtk from the read_vtk program. It can still use the class to store the information and the read vtk to read in the vtk. As there are 6 bifucation point, we currently have 4 types of trajectories, and label them with different color / sign. It can be a scatter plot? or investigate on phase diagram."
   ]
  },
  {
   "cell_type": "code",
   "execution_count": 1,
   "id": "7b391ba8",
   "metadata": {},
   "outputs": [],
   "source": [
    "import numpy as np\n",
    "import pandas as pd\n",
    "import matplotlib.pyplot as plt\n",
    "import os\n",
    "from read_vtk_helper import vtk_tag, read_vtk, gene_vtk"
   ]
  },
  {
   "cell_type": "markdown",
   "id": "94097a7d",
   "metadata": {},
   "source": [
    "        columns=[2, 2.25, 2.5, 2.75, 2.8, 2.85, 2.9, 2.95, 3, 3.5,]"
   ]
  },
  {
   "cell_type": "markdown",
   "id": "c297d21e",
   "metadata": {},
   "source": [
    "Create an dictionary that classifies the data point based on the trajectory. the x axis will be the cell size and y will be the cell stiffness. "
   ]
  },
  {
   "cell_type": "markdown",
   "id": "b90e1187",
   "metadata": {},
   "source": [
    "I will make the middle path 0, all the way to the bottom 2, to the bottom but move up at the lowest bp 1, and the weird one 3. "
   ]
  },
  {
   "cell_type": "code",
   "execution_count": 3,
   "id": "e9ba79de",
   "metadata": {},
   "outputs": [],
   "source": [
    "data = pd.DataFrame(index = ['5E-5', '1E-4', '2E-4', '4E-4', '8E-4'])\n",
    "data['2.0']=[0, 0, 0, 0, 0]\n",
    "data['2.25']=[0, 0, 0, 0, 0]\n",
    "data['2.5']=[0, 0, 0, 0, 0]\n",
    "data['2.75']=[0, 0, 0, 0, 0]\n",
    "data['2.8']=[0, 0, 0, 0, 0]\n",
    "data['2.85']=[0, 0, 0, 0, 0]\n",
    "data['2.9']=[0, 1, 0, 0, 0]\n",
    "data['2.95']=[2, 2, 1, 0, 0]\n",
    "data['3.0']=[2, 2, 1, 0, 1]\n",
    "data['3.5']=[2, 2, 2, 2, 2]\n",
    "data['4.0']=[2, 2, 2, 2, 2]\n",
    "data['4.5']=[2, 2, 2, 2, 2]\n",
    "data['5.0']=[2, 2, 2, 2, 2]\n",
    "data['5.5']=[3, 2, 2, 2, 2]\n",
    "data['6.0']=[0, 2, 2, 2, 2]"
   ]
  },
  {
   "cell_type": "code",
   "execution_count": 61,
   "id": "9bf38960",
   "metadata": {},
   "outputs": [],
   "source": [
    "plt.rcParams[\"figure.figsize\"] = [7.00, 3.50]\n",
    "plt.rcParams[\"figure.autolayout\"] = True\n",
    "x = np.arange(len(data.columns))\n",
    "y = np.arange(len(data.index))\n",
    "x_label = list(data.columns)\n",
    "y_label = list(data.index)"
   ]
  },
  {
   "cell_type": "code",
   "execution_count": 67,
   "id": "6270e453",
   "metadata": {},
   "outputs": [
    {
     "data": {
      "image/png": "[encoded data removed]",
      "text/plain": [
       "<Figure size 504x252 with 1 Axes>"
      ]
     },
     "metadata": {
      "needs_background": "light"
     },
     "output_type": "display_data"
    }
   ],
   "source": [
    "path = 'Users/junyunan/Desktop/amanda_lab/simulation_result_a3~7_s5_80/Image_and_plot/'\n",
    "abs_path = os.path.abspath(path)\n",
    "for i in x:\n",
    "    for j in y:\n",
    "        cont = data.iloc[j][i]\n",
    "        if cont == 0:\n",
    "            marker = '^'\n",
    "            color = 'b'\n",
    "        elif cont == 1:\n",
    "            marker = 'o'\n",
    "            color = 'y'\n",
    "        elif cont == 2: \n",
    "            marker = 'v'\n",
    "            color = 'r'\n",
    "        else:\n",
    "            marker = 's'\n",
    "            color = 'g'\n",
    "        plt.scatter(i, j, c=color, marker = marker)\n",
    "plt.xticks(x, x_label)\n",
    "plt.yticks(y, y_label)\n",
    "plt.xlabel('Cell Radius (µm)')\n",
    "plt.ylabel('Shear Modulus (Gs)')\n",
    "plt.title('Summary of cell trajectory over cell parameter')\n",
    "plt.savefig('Summary_of_traj.png', dpi=800)"
   ]
  },
  {
   "cell_type": "code",
   "execution_count": 10,
   "id": "78c06215",
   "metadata": {},
   "outputs": [],
   "source": [
    "summary_of_trajectory = {'middle_down':None, 'middle_up':None, 'bottom_down':None, 'bottom_up':None}\n",
    "summary_of_trajectory['middle_down'] = [(1.0, 2), (1.0, 5), (1.0, 10), (1.0, 20), (1.0, 40), (1.0, 80), (1.0, 120), (1.0, 160),\n",
    "                                        (1.5, 2), (1.5, 5), (1.5, 10), (1.5, 20), (1.5, 40), (1.5, 80), (1.5, 120), (1.5, 160),\n",
    "                                        (1.75, 2), (1.75, 5), (1.75, 10), (1.75, 20), (1.75, 40), (1.75, 80), (1.75, 120), (1.75, 160),\n",
    "                                        (2.0, 2), (2.0, 5), (2.0, 10), (2.0, 20), (2.0, 40), (2.0, 80), \n",
    "                                        (2.25, 2), (2.25, 5), (2.25, 10), (2.25, 20), (2.25, 40), (2.25, 80), (2.25, 120), (2.25, 160),\n",
    "                                        (2.5, 2), (2.5, 5), (2.5, 10), (2.5, 20), (2.5, 40), (2.5, 80), (2.5, 120), (2.5, 160),\n",
    "                                        (2.75, 2), (2.75, 5), (2.75, 10), (2.75, 20), (2.75, 40), (2.75, 80), (2.75, 120), (2.75, 160),\n",
    "                                        (2.80, 2), (2.80, 5), (2.80, 10), (2.80, 20), (2.80, 40), (2.80, 80), (2.80, 120), (2.80, 160),\n",
    "                                        (2.85, 2), (2.85, 5), (2.85, 10), (2.85, 20), (2.85, 40), (2.85, 80), (2.85, 120), (2.85, 160),\n",
    "                                        (2.90, 2), (2.90, 5),             (2.90, 20), (2.90, 40), (2.90, 80), (2.90, 120), (2.90, 160),\n",
    "                                        (2.95, 2),                                    (2.95, 40), (2.95, 80), (2.95, 120), (2.95, 160),\n",
    "                                        (3.0, 2),                                     (3.0, 40),              (3.0, 120), (3.0, 160),\n",
    "                                        (4.5, 2), (5.0, 2)]\n",
    "summary_of_trajectory['middle_up'] = [(2.0, 120), (2.0, 160)]\n",
    "summary_of_trajectory['bottom_down'] = [(2.95, 5), (2.95, 10), (3.0, 5), (3.0, 10), (3.5, 2), (3.5, 5), (3.5, 10), (3.5, 20), (3.5, 40),\n",
    "                                        (4.0, 2), (4.0, 5), (4.0, 10), (4.0, 20), (4.0, 40), (4.0, 80), (4.0, 120), (4.0, 160),\n",
    "                                                  (4.5, 5), (4.5, 10), (4.5, 20), (4.5, 40), (4.5, 80), (4.5, 120), (4.5, 160),\n",
    "                                                  (5.0, 5), (5.0, 10), (5.0, 20), (5.0, 40), (5.0, 80), (5.0, 120), (5.0, 160)]\n",
    "summary_of_trajectory['bottom_up'] = [(2.9, 10), (2.95, 20), (3.0, 20), (3.0, 80), (3.5, 80), (3.5, 120), (3.5, 160)]\n"
   ]
  },
  {
   "cell_type": "code",
   "execution_count": 14,
   "id": "cb95ce7b",
   "metadata": {},
   "outputs": [
    {
     "data": {
      "image/png": "[encoded data removed]",
      "text/plain": [
       "<Figure size 432x288 with 1 Axes>"
      ]
     },
     "metadata": {
      "needs_background": "light"
     },
     "output_type": "display_data"
    }
   ],
   "source": [
    "path = 'Users/junyunan/Desktop/amanda_lab/simulation_result_a3~7_s5_80/Image_and_plot/'\n",
    "abs_path = os.path.abspath(path)\n",
    "# if cont == 0:\n",
    "#     marker = '^'\n",
    "#     color = 'b'\n",
    "# elif cont == 1:\n",
    "#     marker = 'o'\n",
    "#     color = 'y'\n",
    "# elif cont == 2: \n",
    "#     marker = 'v'\n",
    "#     color = 'r'\n",
    "# else:\n",
    "#     marker = 's'\n",
    "#     color = 'g'\n",
    "for elements in summary_of_trajectory['middle_down']:\n",
    "    plt.scatter(elements[0], elements[1], c='b', marker = '^')\n",
    "for elements in summary_of_trajectory['middle_up']:\n",
    "    plt.scatter(elements[0], elements[1], c='k', marker = 's')\n",
    "for elements in summary_of_trajectory['bottom_down']:\n",
    "    plt.scatter(elements[0], elements[1], c='r', marker = 'v')\n",
    "for elements in summary_of_trajectory['bottom_up']:\n",
    "    plt.scatter(elements[0], elements[1], c='y', marker = 'o')\n",
    "plt.xlabel('Cell Radius (µm)')\n",
    "plt.ylabel('Shear Modulus (Gs)')\n",
    "plt.title('Summary of cell trajectory over cell parameter')\n",
    "plt.savefig('Summary_of_traj_expansion.png', dpi=800)"
   ]
  },
  {
   "cell_type": "code",
   "execution_count": null,
   "id": "be569f83",
   "metadata": {},
   "outputs": [],
   "source": []
  }
 ],
 "metadata": {
  "kernelspec": {
   "display_name": "Python 3.9.12 ('Math')",
   "language": "python",
   "name": "python3"
  },
  "language_info": {
   "codemirror_mode": {
    "name": "ipython",
    "version": 3
   },
   "file_extension": ".py",
   "mimetype": "text/x-python",
   "name": "python",
   "nbconvert_exporter": "python",
   "pygments_lexer": "ipython3",
   "version": "3.9.12"
  },
  "vscode": {
   "interpreter": {
    "hash": "ac74b973d8bad8198e88f906e26425d8dc7abbd56adb2f25299ae655b3a5cdbd"
   }
  }
 },
 "nbformat": 4,
 "nbformat_minor": 5
}
