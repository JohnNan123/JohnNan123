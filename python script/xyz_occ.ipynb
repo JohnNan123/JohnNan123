{
 "cells": [
  {
   "cell_type": "code",
   "execution_count": 1,
   "metadata": {},
   "outputs": [],
   "source": [
    "import numpy as np\n",
    "import pandas as pd\n",
    "import time\n",
    "import os"
   ]
  },
  {
   "cell_type": "markdown",
   "metadata": {},
   "source": [
    "1. Open the overall.csv and extract x, y, z and store them into separate class\n",
    "2. Sum the occupency together by id"
   ]
  },
  {
   "cell_type": "code",
   "execution_count": 2,
   "metadata": {},
   "outputs": [],
   "source": [
    "def merge_csv(path, total_rank=128):\n",
    "    start = time.time()\n",
    "    column = ['x', 'y', 'z', 'occ']\n",
    "    df_list = []\n",
    "    for i in range(total_rank):\n",
    "        step = f\"{i:07}\"\n",
    "        df_temp = pd.read_csv('{}/pedata{}.csv'.format(path, step), header=None)\n",
    "        df_temp = df_temp.drop(labels=[0, 4, 5, 6, 7, 8, 9, 10], axis=1)\n",
    "        df_temp.columns = column\n",
    "        df_list.append(df_temp)\n",
    "    df_overall = pd.concat(df_list)\n",
    "    df_overall.to_csv('{}/overall_py.csv'.format(path), index=False)\n",
    "    end = time.time()\n",
    "    print('merge data successfully in {}'.format(path))\n",
    "    print('used {:.5f}s'.format(end - start))\n",
    "    return 0"
   ]
  },
  {
   "cell_type": "code",
   "execution_count": 3,
   "metadata": {},
   "outputs": [
    {
     "name": "stdout",
     "output_type": "stream",
     "text": [
      "merge data successfully in lbm_a2p95_s40_n230p0_n2p47_2p47.iter04060000\n",
      "used 19.87817s\n"
     ]
    }
   ],
   "source": [
    "path_list = [ f for f in os.listdir() if f[0]=='l']\n",
    "df = merge_csv(path_list[0])"
   ]
  },
  {
   "cell_type": "code",
   "execution_count": 4,
   "metadata": {},
   "outputs": [
    {
     "name": "stdout",
     "output_type": "stream",
     "text": [
      "used 1.16497s\n"
     ]
    }
   ],
   "source": [
    "start = time.time()\n",
    "df_t = pd.read_csv(path_list[0] + '/overall_py.csv')\n",
    "end = time.time()\n",
    "print('used {:.5f}s'.format(end - start))"
   ]
  },
  {
   "cell_type": "code",
   "execution_count": 5,
   "metadata": {},
   "outputs": [],
   "source": [
    "lx = df_t.x.drop_duplicates()\n",
    "ly = df_t.y.drop_duplicates()\n",
    "lz = df_t.z.drop_duplicates()"
   ]
  },
  {
   "cell_type": "code",
   "execution_count": 6,
   "metadata": {},
   "outputs": [
    {
     "data": {
      "text/html": [
       "<div>\n",
       "<style scoped>\n",
       "    .dataframe tbody tr th:only-of-type {\n",
       "        vertical-align: middle;\n",
       "    }\n",
       "\n",
       "    .dataframe tbody tr th {\n",
       "        vertical-align: top;\n",
       "    }\n",
       "\n",
       "    .dataframe thead th {\n",
       "        text-align: right;\n",
       "    }\n",
       "</style>\n",
       "<table border=\"1\" class=\"dataframe\">\n",
       "  <thead>\n",
       "    <tr style=\"text-align: right;\">\n",
       "      <th></th>\n",
       "      <th>coord</th>\n",
       "      <th>occ</th>\n",
       "    </tr>\n",
       "  </thead>\n",
       "  <tbody>\n",
       "    <tr>\n",
       "      <th>0</th>\n",
       "      <td>(260.50410000000005, -4.462399999999988, -0.71...</td>\n",
       "      <td>0.0</td>\n",
       "    </tr>\n",
       "    <tr>\n",
       "      <th>1</th>\n",
       "      <td>(260.9541, -4.462399999999988, -0.716140000000...</td>\n",
       "      <td>0.000001</td>\n",
       "    </tr>\n",
       "    <tr>\n",
       "      <th>2</th>\n",
       "      <td>(261.4041, -4.462399999999988, -0.716140000000...</td>\n",
       "      <td>0.0</td>\n",
       "    </tr>\n",
       "    <tr>\n",
       "      <th>3</th>\n",
       "      <td>(261.8541000000001, -4.462399999999988, -0.716...</td>\n",
       "      <td>0.0</td>\n",
       "    </tr>\n",
       "    <tr>\n",
       "      <th>4</th>\n",
       "      <td>(262.3041, -4.462399999999988, -0.716140000000...</td>\n",
       "      <td>0.0</td>\n",
       "    </tr>\n",
       "    <tr>\n",
       "      <th>...</th>\n",
       "      <td>...</td>\n",
       "      <td>...</td>\n",
       "    </tr>\n",
       "    <tr>\n",
       "      <th>3101</th>\n",
       "      <td>(263.2041, 0.9376000000000176, -0.716140000000...</td>\n",
       "      <td>0.000006</td>\n",
       "    </tr>\n",
       "    <tr>\n",
       "      <th>3102</th>\n",
       "      <td>(262.75410000000005, 0.9376000000000176, -0.71...</td>\n",
       "      <td>0.000013</td>\n",
       "    </tr>\n",
       "    <tr>\n",
       "      <th>3103</th>\n",
       "      <td>(262.3041, 0.9376000000000176, -0.716140000000...</td>\n",
       "      <td>0.000003</td>\n",
       "    </tr>\n",
       "    <tr>\n",
       "      <th>3104</th>\n",
       "      <td>(261.8541000000001, 0.9376000000000176, -0.716...</td>\n",
       "      <td>-0.000001</td>\n",
       "    </tr>\n",
       "    <tr>\n",
       "      <th>3105</th>\n",
       "      <td>(261.4041, 0.9376000000000176, -0.716140000000...</td>\n",
       "      <td>0.0</td>\n",
       "    </tr>\n",
       "  </tbody>\n",
       "</table>\n",
       "<p>3106 rows × 2 columns</p>\n",
       "</div>"
      ],
      "text/plain": [
       "0                                                 coord       occ\n",
       "0     (260.50410000000005, -4.462399999999988, -0.71...       0.0\n",
       "1     (260.9541, -4.462399999999988, -0.716140000000...  0.000001\n",
       "2     (261.4041, -4.462399999999988, -0.716140000000...       0.0\n",
       "3     (261.8541000000001, -4.462399999999988, -0.716...       0.0\n",
       "4     (262.3041, -4.462399999999988, -0.716140000000...       0.0\n",
       "...                                                 ...       ...\n",
       "3101  (263.2041, 0.9376000000000176, -0.716140000000...  0.000006\n",
       "3102  (262.75410000000005, 0.9376000000000176, -0.71...  0.000013\n",
       "3103  (262.3041, 0.9376000000000176, -0.716140000000...  0.000003\n",
       "3104  (261.8541000000001, 0.9376000000000176, -0.716... -0.000001\n",
       "3105  (261.4041, 0.9376000000000176, -0.716140000000...       0.0\n",
       "\n",
       "[3106 rows x 2 columns]"
      ]
     },
     "execution_count": 6,
     "metadata": {},
     "output_type": "execute_result"
    }
   ],
   "source": [
    "occ_not_zero = df_t[df_t['occ'] != 0]\n",
    "new_occ = [['coord', 'occ']]\n",
    "for index, row in occ_not_zero.iterrows():\n",
    "    new_occ.append([(row['x'], row['y'], row['z']), row['occ']])\n",
    "new_occ = pd.DataFrame(new_occ)\n",
    "new_header = new_occ.iloc[0] #grab the first row for the header\n",
    "new_occ = new_occ[1:] #take the data less the header row\n",
    "new_occ.columns = new_header \n",
    "new_occ = new_occ.reset_index(drop=True)\n",
    "new_occ"
   ]
  },
  {
   "cell_type": "code",
   "execution_count": null,
   "metadata": {},
   "outputs": [],
   "source": [
    "cube = {}\n",
    "xx = 0\n",
    "for x in lx:\n",
    "    for y in ly:\n",
    "        for z in lz:\n",
    "            cube[str((x, y, z))] = 0.0\n",
    "            xx += 1\n",
    "print(xx)"
   ]
  },
  {
   "cell_type": "code",
   "execution_count": null,
   "metadata": {},
   "outputs": [],
   "source": [
    "len(cube)"
   ]
  },
  {
   "cell_type": "code",
   "execution_count": null,
   "metadata": {},
   "outputs": [],
   "source": [
    "for i in range(len(new_occ)):\n",
    "    coord = new_occ['coord'][i]\n",
    "    cube[str(coord)] = new_occ['occ'][i]\n",
    "    if (((10*i)/len(new_occ)) % 10) == 0:\n",
    "        print(((10*i)/len(new_occ)) % 10)\n",
    "        print('10% done')"
   ]
  },
  {
   "cell_type": "code",
   "execution_count": null,
   "metadata": {},
   "outputs": [],
   "source": [
    "# cube = []\n",
    "# cube.append(['coord', 'occ'])\n",
    "# for x in lx:\n",
    "#     for y in ly:\n",
    "#         for z in lz:\n",
    "#             cube.append([(x, y, z), 0])\n",
    "# df_cube = pd.DataFrame(cube)\n",
    "# new_header = df_cube.iloc[0] #grab the first row for the header\n",
    "# df_cube = df_cube[1:] #take the data less the header row\n",
    "# df_cube.columns = new_header \n",
    "# df_cube = df_cube.reset_index(drop=True)"
   ]
  },
  {
   "cell_type": "code",
   "execution_count": null,
   "metadata": {},
   "outputs": [],
   "source": [
    "# write csv to vtk\n",
    "start = time.time()\n",
    "\n",
    "file = open('0_n3p50_OPF.vtk', 'w')\n",
    "file.write('# vtk DataFile Version 3.0\\n')\n",
    "file.write('vtk global output\\n')\n",
    "file.write('ASCII\\n')\n",
    "file.write('DATASET STRUCTURED_POINTS\\n')\n",
    "file.write(\"DIMENSIONS {} {} {}\\n\".format(len(lx), len(ly), len(lz)))\n",
    "file.write(\"ORIGIN 0. 0. 0.\\n\");\n",
    "file.write(\"SPACING 1 1 1\\n\");\n",
    "file.write(\"POINT_DATA {}\\n\".format(len(cube)));\n",
    "file.write('SCALARS occ double \\n')\n",
    "file.write(\"LOOKUP_TABLE default\\n\")\n",
    "for entry in cube:\n",
    "    occ = cube[entry]\n",
    "    line = '{}\\n'.format(occ)\n",
    "    file.write(line)\n",
    "file.write('VECTORS coordinates double \\n')\n",
    "ss = 0\n",
    "for entry in cube:\n",
    "    entry_list = entry.split(\", \")\n",
    "    x = entry_list[0][1:]\n",
    "    y = entry_list[1]\n",
    "    z = entry_list[2][:-1]\n",
    "    line = '{} {} {}\\n'.format(x, y, z)\n",
    "    ss += 1\n",
    "    file.write(line)\n",
    "file.close\n",
    "print(ss)\n",
    "\n",
    "end = time.time()\n",
    "print('used {:.5f}s'.format(end - start))"
   ]
  },
  {
   "cell_type": "code",
   "execution_count": null,
   "metadata": {},
   "outputs": [],
   "source": []
  }
 ],
 "metadata": {
  "kernelspec": {
   "display_name": "Python 3 (ipykernel)",
   "language": "python",
   "name": "python3"
  },
  "language_info": {
   "codemirror_mode": {
    "name": "ipython",
    "version": 3
   },
   "file_extension": ".py",
   "mimetype": "text/x-python",
   "name": "python",
   "nbconvert_exporter": "python",
   "pygments_lexer": "ipython3",
   "version": "3.9.12"
  },
  "vscode": {
   "interpreter": {
    "hash": "ac74b973d8bad8198e88f906e26425d8dc7abbd56adb2f25299ae655b3a5cdbd"
   }
  }
 },
 "nbformat": 4,
 "nbformat_minor": 2
}
