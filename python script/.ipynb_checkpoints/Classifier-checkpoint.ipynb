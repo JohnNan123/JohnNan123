{
 "cells": [
  {
   "cell_type": "markdown",
   "id": "dfd7f848",
   "metadata": {},
   "source": [
    "## To classify and draw a phase diagram\n",
    "\n",
    "Initially, we can read the vtk from the read_vtk program. It can still use the class to store the information and the read vtk to read in the vtk. As there are 6 bifucation point, we currently have 4 types of trajectories, and label them with different color / sign. It can be a scatter plot? or investigate on phase diagram."
   ]
  },
  {
   "cell_type": "code",
   "execution_count": 1,
   "id": "7b391ba8",
   "metadata": {},
   "outputs": [],
   "source": [
    "import numpy as np\n",
    "import pandas as pd\n",
    "import matplotlib.pyplot as plt\n",
    "import os\n",
    "from read_vtk_helper import vtk_tag, read_vtk, gene_vtk"
   ]
  },
  {
   "cell_type": "code",
   "execution_count": 2,
   "id": "b672fc40",
   "metadata": {},
   "outputs": [
    {
     "data": {
      "text/plain": [
       "'/Users/junyunan/Desktop/amanda_lab/python script'"
      ]
     },
     "execution_count": 2,
     "metadata": {},
     "output_type": "execute_result"
    }
   ],
   "source": [
    "os.path.abspath('./')"
   ]
  },
  {
   "cell_type": "code",
   "execution_count": 58,
   "id": "b4a54368",
   "metadata": {},
   "outputs": [],
   "source": [
    "data = pd.DataFrame(index = ['5E-5', '1E-4', '2E-4', '4E-4', '8E-4'])"
   ]
  },
  {
   "cell_type": "markdown",
   "id": "94097a7d",
   "metadata": {},
   "source": [
    "        columns=[2, 2.25, 2.5, 2.75, 2.8, 2.85, 2.9, 2.95, 3, 3.5,]"
   ]
  },
  {
   "cell_type": "markdown",
   "id": "b90e1187",
   "metadata": {},
   "source": [
    "I will make the middle path 0, all the way to the bottom 2, to the bottom but move up at the lowest bp 1, and the weird one 3. "
   ]
  },
  {
   "cell_type": "code",
   "execution_count": 59,
   "id": "e9ba79de",
   "metadata": {},
   "outputs": [],
   "source": [
    "data['2.0']=[0, 0, 0, 0, 0]\n",
    "data['2.25']=[0, 0, 0, 0, 0]\n",
    "data['2.5']=[0, 0, 0, 0, 0]\n",
    "data['2.75']=[0, 0, 0, 0, 0]\n",
    "data['2.8']=[0, 0, 0, 0, 0]\n",
    "data['2.85']=[0, 0, 0, 0, 0]\n",
    "data['2.9']=[0, 1, 0, 0, 0]\n",
    "data['2.95']=[2, 2, 1, 0, 0]\n",
    "data['3.0']=[2, 2, 1, 0, 1]\n",
    "data['3.5']=[2, 2, 2, 2, 2]\n",
    "data['4.0']=[2, 2, 2, 2, 2]\n",
    "data['4.5']=[2, 2, 2, 2, 2]\n",
    "data['5.0']=[2, 2, 2, 2, 2]\n",
    "data['5.5']=[3, 2, 2, 2, 2]\n",
    "data['6.0']=[0, 2, 2, 2, 2]"
   ]
  },
  {
   "cell_type": "code",
   "execution_count": 60,
   "id": "78c06215",
   "metadata": {},
   "outputs": [
    {
     "data": {
      "text/html": [
       "<div>\n",
       "<style scoped>\n",
       "    .dataframe tbody tr th:only-of-type {\n",
       "        vertical-align: middle;\n",
       "    }\n",
       "\n",
       "    .dataframe tbody tr th {\n",
       "        vertical-align: top;\n",
       "    }\n",
       "\n",
       "    .dataframe thead th {\n",
       "        text-align: right;\n",
       "    }\n",
       "</style>\n",
       "<table border=\"1\" class=\"dataframe\">\n",
       "  <thead>\n",
       "    <tr style=\"text-align: right;\">\n",
       "      <th></th>\n",
       "      <th>2.0</th>\n",
       "      <th>2.25</th>\n",
       "      <th>2.5</th>\n",
       "      <th>2.75</th>\n",
       "      <th>2.8</th>\n",
       "      <th>2.85</th>\n",
       "      <th>2.9</th>\n",
       "      <th>2.95</th>\n",
       "      <th>3.0</th>\n",
       "      <th>3.5</th>\n",
       "      <th>4.0</th>\n",
       "      <th>4.5</th>\n",
       "      <th>5.0</th>\n",
       "      <th>5.5</th>\n",
       "      <th>6.0</th>\n",
       "    </tr>\n",
       "  </thead>\n",
       "  <tbody>\n",
       "    <tr>\n",
       "      <th>5E-5</th>\n",
       "      <td>0</td>\n",
       "      <td>0</td>\n",
       "      <td>0</td>\n",
       "      <td>0</td>\n",
       "      <td>0</td>\n",
       "      <td>0</td>\n",
       "      <td>0</td>\n",
       "      <td>2</td>\n",
       "      <td>2</td>\n",
       "      <td>2</td>\n",
       "      <td>2</td>\n",
       "      <td>2</td>\n",
       "      <td>2</td>\n",
       "      <td>3</td>\n",
       "      <td>0</td>\n",
       "    </tr>\n",
       "    <tr>\n",
       "      <th>1E-4</th>\n",
       "      <td>0</td>\n",
       "      <td>0</td>\n",
       "      <td>0</td>\n",
       "      <td>0</td>\n",
       "      <td>0</td>\n",
       "      <td>0</td>\n",
       "      <td>1</td>\n",
       "      <td>2</td>\n",
       "      <td>2</td>\n",
       "      <td>2</td>\n",
       "      <td>2</td>\n",
       "      <td>2</td>\n",
       "      <td>2</td>\n",
       "      <td>2</td>\n",
       "      <td>2</td>\n",
       "    </tr>\n",
       "    <tr>\n",
       "      <th>2E-4</th>\n",
       "      <td>0</td>\n",
       "      <td>0</td>\n",
       "      <td>0</td>\n",
       "      <td>0</td>\n",
       "      <td>0</td>\n",
       "      <td>0</td>\n",
       "      <td>0</td>\n",
       "      <td>1</td>\n",
       "      <td>1</td>\n",
       "      <td>2</td>\n",
       "      <td>2</td>\n",
       "      <td>2</td>\n",
       "      <td>2</td>\n",
       "      <td>2</td>\n",
       "      <td>2</td>\n",
       "    </tr>\n",
       "    <tr>\n",
       "      <th>4E-4</th>\n",
       "      <td>0</td>\n",
       "      <td>0</td>\n",
       "      <td>0</td>\n",
       "      <td>0</td>\n",
       "      <td>0</td>\n",
       "      <td>0</td>\n",
       "      <td>0</td>\n",
       "      <td>0</td>\n",
       "      <td>0</td>\n",
       "      <td>2</td>\n",
       "      <td>2</td>\n",
       "      <td>2</td>\n",
       "      <td>2</td>\n",
       "      <td>2</td>\n",
       "      <td>2</td>\n",
       "    </tr>\n",
       "    <tr>\n",
       "      <th>8E-4</th>\n",
       "      <td>0</td>\n",
       "      <td>0</td>\n",
       "      <td>0</td>\n",
       "      <td>0</td>\n",
       "      <td>0</td>\n",
       "      <td>0</td>\n",
       "      <td>0</td>\n",
       "      <td>0</td>\n",
       "      <td>1</td>\n",
       "      <td>2</td>\n",
       "      <td>2</td>\n",
       "      <td>2</td>\n",
       "      <td>2</td>\n",
       "      <td>2</td>\n",
       "      <td>2</td>\n",
       "    </tr>\n",
       "  </tbody>\n",
       "</table>\n",
       "</div>"
      ],
      "text/plain": [
       "      2.0  2.25  2.5  2.75  2.8  2.85  2.9  2.95  3.0  3.5  4.0  4.5  5.0  \\\n",
       "5E-5    0     0    0     0    0     0    0     2    2    2    2    2    2   \n",
       "1E-4    0     0    0     0    0     0    1     2    2    2    2    2    2   \n",
       "2E-4    0     0    0     0    0     0    0     1    1    2    2    2    2   \n",
       "4E-4    0     0    0     0    0     0    0     0    0    2    2    2    2   \n",
       "8E-4    0     0    0     0    0     0    0     0    1    2    2    2    2   \n",
       "\n",
       "      5.5  6.0  \n",
       "5E-5    3    0  \n",
       "1E-4    2    2  \n",
       "2E-4    2    2  \n",
       "4E-4    2    2  \n",
       "8E-4    2    2  "
      ]
     },
     "execution_count": 60,
     "metadata": {},
     "output_type": "execute_result"
    }
   ],
   "source": [
    "data"
   ]
  },
  {
   "cell_type": "code",
   "execution_count": 61,
   "id": "9bf38960",
   "metadata": {},
   "outputs": [],
   "source": [
    "plt.rcParams[\"figure.figsize\"] = [7.00, 3.50]\n",
    "plt.rcParams[\"figure.autolayout\"] = True\n",
    "x = np.arange(len(data.columns))\n",
    "y = np.arange(len(data.index))\n",
    "x_label = list(data.columns)\n",
    "y_label = list(data.index)"
   ]
  },
  {
   "cell_type": "code",
   "execution_count": 67,
   "id": "6270e453",
   "metadata": {},
   "outputs": [
    {
     "data": {
      "image/png": "[encoded data removed]",
      "text/plain": [
       "<Figure size 504x252 with 1 Axes>"
      ]
     },
     "metadata": {
      "needs_background": "light"
     },
     "output_type": "display_data"
    }
   ],
   "source": [
    "path = 'Users/junyunan/Desktop/amanda_lab/simulation_result_a3~7_s5_80/Image_and_plot/'\n",
    "abs_path = os.path.abspath(path)\n",
    "for i in x:\n",
    "    for j in y:\n",
    "        cont = data.iloc[j][i]\n",
    "        if cont == 0:\n",
    "            marker = '^'\n",
    "            color = 'b'\n",
    "        elif cont == 1:\n",
    "            marker = 'o'\n",
    "            color = 'y'\n",
    "        elif cont == 2: \n",
    "            marker = 'v'\n",
    "            color = 'r'\n",
    "        else:\n",
    "            marker = 's'\n",
    "            color = 'g'\n",
    "        plt.scatter(i, j, c=color, marker = marker)\n",
    "plt.xticks(x, x_label)\n",
    "plt.yticks(y, y_label)\n",
    "plt.xlabel('Cell Radius (µm)')\n",
    "plt.ylabel('Shear Modulus (Gs)')\n",
    "plt.title('Summary of cell trajectory over cell parameter')\n",
    "plt.savefig('Summary_of_traj.png', dpi=800)"
   ]
  },
  {
   "cell_type": "code",
   "execution_count": null,
   "id": "cb95ce7b",
   "metadata": {},
   "outputs": [],
   "source": []
  },
  {
   "cell_type": "code",
   "execution_count": null,
   "id": "be569f83",
   "metadata": {},
   "outputs": [],
   "source": []
  }
 ],
 "metadata": {
  "kernelspec": {
   "display_name": "Python 3 (ipykernel)",
   "language": "python",
   "name": "python3"
  },
  "language_info": {
   "codemirror_mode": {
    "name": "ipython",
    "version": 3
   },
   "file_extension": ".py",
   "mimetype": "text/x-python",
   "name": "python",
   "nbconvert_exporter": "python",
   "pygments_lexer": "ipython3",
   "version": "3.10.2"
  }
 },
 "nbformat": 4,
 "nbformat_minor": 5
}
