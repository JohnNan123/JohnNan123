{
 "cells": [
  {
   "cell_type": "code",
   "execution_count": 1,
   "id": "b8589cb0",
   "metadata": {},
   "outputs": [],
   "source": [
    "import numpy as np\n",
    "import pandas as pd"
   ]
  },
  {
   "cell_type": "markdown",
   "id": "458b6e0e",
   "metadata": {},
   "source": [
    "# Step 1\n",
    "Define the time step of vtk read by reading the file name  \n",
    "- ### **Open the file by setting path + file name**\n",
    "    - file name is cell ID (0 in our case + time step)  \n",
    "- ### **Read line by line** \n",
    "    - #### read in line 5 to get the point number of a cell \n",
    "        - in line 5: devided by `\"<space>\"`\n",
    "            - Mark the first as point, the second as number of lines needed to read in -- `line_number_all`\n",
    "    - #### keep going until meet velocity `VECTORS Velocity double` \n",
    "        - split the line by `\"<space>\"`\n",
    "        - get the second element and identify it as velocity\n",
    "        - store the following number of lines by `line_number_all`\n",
    "        - *for now, get the net velocity by sum them all*\n",
    "    - #### keep going until meet force `VECTORS Force double`\n",
    "        - split the line by `\"<space>\"`\n",
    "        - get the second element and identify it as force\n",
    "        - store the following number of lines by `line_number_all`\n",
    "        - *for now, get the net force by sum them all*"
   ]
  },
  {
   "cell_type": "code",
   "execution_count": 23,
   "id": "6fe4f860",
   "metadata": {},
   "outputs": [],
   "source": [
    "class vtk_tag():\n",
    "    def __init__(self, name, time, path, points = {}, velocity = {}, force = {}):\n",
    "        self.name = name\n",
    "        self.time = time\n",
    "        self.path = path\n",
    "        self.points = points\n",
    "        self.velocity = velocity\n",
    "        self.force = force"
   ]
  },
  {
   "cell_type": "code",
   "execution_count": 18,
   "id": "7116e7bc",
   "metadata": {},
   "outputs": [],
   "source": [
    "# Step 1 create object with filename stored in\n",
    "# name the path by \"size_stiffness\"\n",
    "# name will be used to find the folder for all files (time)\n",
    "\n",
    "def gene_vtk_filename (cell_id, timestep):\n",
    "    name = 'a2_s5'\n",
    "    path = \"vis_cell_\" + name + \".iter/\"\n",
    "    filename = path + str(cell_id) + \".\" + str(timestep * 5000) + \".vtk\"\n",
    "    time = timestep\n",
    "    vtk = vtk_tag(name=name, time= time, path= filename)\n",
    "    return vtk"
   ]
  },
  {
   "cell_type": "code",
   "execution_count": null,
   "id": "aa38d0e6",
   "metadata": {},
   "outputs": [],
   "source": [
    "def read_vtk (cell_id, timestep):\n",
    "    filename = "
   ]
  },
  {
   "cell_type": "code",
   "execution_count": 19,
   "id": "1556cc5a",
   "metadata": {},
   "outputs": [],
   "source": [
    "ctc_1 = gene_vtk_filename(0, 2)"
   ]
  },
  {
   "cell_type": "code",
   "execution_count": 22,
   "id": "d0fc6ba5",
   "metadata": {},
   "outputs": [
    {
     "data": {
      "text/plain": [
       "'vis_cell_a2_s5.iter/0.10000.vtk'"
      ]
     },
     "execution_count": 22,
     "metadata": {},
     "output_type": "execute_result"
    }
   ],
   "source": [
    "ctc_1.path"
   ]
  },
  {
   "cell_type": "code",
   "execution_count": 7,
   "id": "5dfd22d6",
   "metadata": {
    "scrolled": false
   },
   "outputs": [
    {
     "data": {
      "text/plain": [
       "0"
      ]
     },
     "execution_count": 7,
     "metadata": {},
     "output_type": "execute_result"
    }
   ],
   "source": []
  },
  {
   "cell_type": "code",
   "execution_count": null,
   "id": "7dfbb6ec",
   "metadata": {},
   "outputs": [],
   "source": []
  }
 ],
 "metadata": {
  "kernelspec": {
   "display_name": "Python 3 (ipykernel)",
   "language": "python",
   "name": "python3"
  },
  "language_info": {
   "codemirror_mode": {
    "name": "ipython",
    "version": 3
   },
   "file_extension": ".py",
   "mimetype": "text/x-python",
   "name": "python",
   "nbconvert_exporter": "python",
   "pygments_lexer": "ipython3",
   "version": "3.10.2"
  }
 },
 "nbformat": 4,
 "nbformat_minor": 5
}
