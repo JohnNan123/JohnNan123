{
 "cells": [
  {
   "cell_type": "code",
   "execution_count": 1,
   "id": "2dd39f22",
   "metadata": {},
   "outputs": [],
   "source": [
    "import numpy as np\n",
    "import pandas as pd\n",
    "import matplotlib.pyplot as plt"
   ]
  },
  {
   "cell_type": "markdown",
   "id": "369cc1a8",
   "metadata": {},
   "source": [
    "def read_off(filename):\n",
    "    num_select = 1024\n",
    "    f = open(filename)\n",
    "    f.readline()  # ignore the 'OFF' at the first line\n",
    "    f.readline()  # ignore the second line\n",
    "    All_points = []\n",
    "    selected_points = []\n",
    "    while True:\n",
    "        new_line = f.readline()\n",
    "        x = new_line.split(' ')\n",
    "        if x[0] != '3':\n",
    "            A = np.array(x[0:3], dtype='float32')\n",
    "            All_points.append(A)\n",
    "        else:\n",
    "            break\n",
    "    # if the numbers of points are less than 2000, extent the point set\n",
    "    if len(All_points) < (num_select + 3):\n",
    "        return None\n",
    "    # take and shuffle points\n",
    "    index = np.random.choice(len(All_points), num_select, replace=False)\n",
    "    for i in range(len(index)):\n",
    "        selected_points.append(All_points[index[i]])\n",
    "    return selected_points  # return N*3 array "
   ]
  },
  {
   "cell_type": "code",
   "execution_count": 45,
   "id": "4dd4f884",
   "metadata": {},
   "outputs": [],
   "source": [
    "def read_off(filename):\n",
    "\n",
    "    with open(filename) as off:\n",
    "\n",
    "        first_line = off.readline()\n",
    "        if \"OFF\" not in first_line:\n",
    "            raise ValueError('The file does not start whith the word OFF')\n",
    "        color = True if \"C\" in first_line else False\n",
    "\n",
    "        count = 1\n",
    "        for line in off:\n",
    "            count += 1\n",
    "            if line.startswith(\"#\"):\n",
    "                continue\n",
    "            line = line.strip().split()\n",
    "            if len(line) > 1:\n",
    "                n_points = int(line[0])\n",
    "                n_faces = int(line[1])\n",
    "                break\n",
    "\n",
    "        data = {}\n",
    "        point_names = [\"x\", \"y\", \"z\"]\n",
    "        if color:\n",
    "            point_names.extend([\"red\", \"green\", \"blue\"])\n",
    "\n",
    "        data[\"points\"] = pd.read_csv(filename, sep=\" \", header=None, engine=\"python\",\n",
    "                                     skiprows=count, skipfooter=n_faces,\n",
    "                                     names=point_names, index_col=False)\n",
    "        for n in [\"x\", \"y\", \"z\"]:\n",
    "            data[\"points\"][n] = data[\"points\"][n].astype(np.float32)\n",
    "\n",
    "        if color:\n",
    "            for n in [\"red\", \"green\", \"blue\"]:\n",
    "                data[\"points\"][n] = data[\"points\"][n].astype(np.uint8)\n",
    "\n",
    "        data[\"mesh\"] = pd.read_csv(filename, sep=\" \", header=None, engine=\"python\",\n",
    "                                   skiprows=(count + n_points), usecols=[1, 2, 3],\n",
    "                                   names=[\"v1\", \"v2\", \"v3\"])\n",
    "        return data "
   ]
  },
  {
   "cell_type": "code",
   "execution_count": 46,
   "id": "b499e49e",
   "metadata": {},
   "outputs": [],
   "source": [
    "points_plinko = read_off(\"plinko_20x.off\")"
   ]
  },
  {
   "cell_type": "code",
   "execution_count": 49,
   "id": "3acb2a72",
   "metadata": {},
   "outputs": [
    {
     "data": {
      "text/plain": [
       "{'points':                  x         y         z\n",
       " 0      -129.402298  0.005945 -8.330001\n",
       " 1      -130.037994  0.007663 -8.339445\n",
       " 2      -130.363007  0.567709 -8.330001\n",
       " 3      -130.363007  0.567709 -8.330001\n",
       " 4      -129.559906  0.865607 -8.301667\n",
       " ...            ...       ...       ...\n",
       " 297421  171.605896  3.036900  7.111307\n",
       " 297422  171.459305  2.340012  7.278639\n",
       " 297423  172.355698  3.070602  7.188707\n",
       " 297424  171.459305  2.340012  7.278639\n",
       " 297425  171.448196  2.302160  7.287371\n",
       " \n",
       " [297426 rows x 3 columns],\n",
       " 'mesh':            v1      v2      v3\n",
       " 0           0       1       2\n",
       " 1           3       4       5\n",
       " 2           6       7       8\n",
       " 3           9      10      11\n",
       " 4          12      13      14\n",
       " ...       ...     ...     ...\n",
       " 99137  297411  297412  297413\n",
       " 99138  297414  297415  297416\n",
       " 99139  297417  297418  297419\n",
       " 99140  297420  297421  297422\n",
       " 99141  297423  297424  297425\n",
       " \n",
       " [99142 rows x 3 columns]}"
      ]
     },
     "execution_count": 49,
     "metadata": {},
     "output_type": "execute_result"
    }
   ],
   "source": [
    "points_plinko"
   ]
  },
  {
   "cell_type": "code",
   "execution_count": 48,
   "id": "bee2f4fa",
   "metadata": {},
   "outputs": [
    {
     "ename": "ValueError",
     "evalue": "If using all scalar values, you must pass an index",
     "output_type": "error",
     "traceback": [
      "\u001b[0;31m---------------------------------------------------------------------------\u001b[0m",
      "\u001b[0;31mValueError\u001b[0m                                Traceback (most recent call last)",
      "\u001b[0;32m/var/folders/t7/q03l1nb102lbz87fxbtt_mnw0000gn/T/ipykernel_76390/1900536761.py\u001b[0m in \u001b[0;36m<module>\u001b[0;34m\u001b[0m\n\u001b[0;32m----> 1\u001b[0;31m \u001b[0mpd_plinko\u001b[0m \u001b[0;34m=\u001b[0m \u001b[0mpd\u001b[0m\u001b[0;34m.\u001b[0m\u001b[0mDataFrame\u001b[0m\u001b[0;34m(\u001b[0m\u001b[0mpoints_plinko\u001b[0m\u001b[0;34m)\u001b[0m\u001b[0;34m\u001b[0m\u001b[0;34m\u001b[0m\u001b[0m\n\u001b[0m",
      "\u001b[0;32m~/opt/anaconda3/envs/Math/lib/python3.10/site-packages/pandas/core/frame.py\u001b[0m in \u001b[0;36m__init__\u001b[0;34m(self, data, index, columns, dtype, copy)\u001b[0m\n\u001b[1;32m    612\u001b[0m         \u001b[0;32melif\u001b[0m \u001b[0misinstance\u001b[0m\u001b[0;34m(\u001b[0m\u001b[0mdata\u001b[0m\u001b[0;34m,\u001b[0m \u001b[0mdict\u001b[0m\u001b[0;34m)\u001b[0m\u001b[0;34m:\u001b[0m\u001b[0;34m\u001b[0m\u001b[0;34m\u001b[0m\u001b[0m\n\u001b[1;32m    613\u001b[0m             \u001b[0;31m# GH#38939 de facto copy defaults to False only in non-dict cases\u001b[0m\u001b[0;34m\u001b[0m\u001b[0;34m\u001b[0m\u001b[0m\n\u001b[0;32m--> 614\u001b[0;31m             \u001b[0mmgr\u001b[0m \u001b[0;34m=\u001b[0m \u001b[0mdict_to_mgr\u001b[0m\u001b[0;34m(\u001b[0m\u001b[0mdata\u001b[0m\u001b[0;34m,\u001b[0m \u001b[0mindex\u001b[0m\u001b[0;34m,\u001b[0m \u001b[0mcolumns\u001b[0m\u001b[0;34m,\u001b[0m \u001b[0mdtype\u001b[0m\u001b[0;34m=\u001b[0m\u001b[0mdtype\u001b[0m\u001b[0;34m,\u001b[0m \u001b[0mcopy\u001b[0m\u001b[0;34m=\u001b[0m\u001b[0mcopy\u001b[0m\u001b[0;34m,\u001b[0m \u001b[0mtyp\u001b[0m\u001b[0;34m=\u001b[0m\u001b[0mmanager\u001b[0m\u001b[0;34m)\u001b[0m\u001b[0;34m\u001b[0m\u001b[0;34m\u001b[0m\u001b[0m\n\u001b[0m\u001b[1;32m    615\u001b[0m         \u001b[0;32melif\u001b[0m \u001b[0misinstance\u001b[0m\u001b[0;34m(\u001b[0m\u001b[0mdata\u001b[0m\u001b[0;34m,\u001b[0m \u001b[0mma\u001b[0m\u001b[0;34m.\u001b[0m\u001b[0mMaskedArray\u001b[0m\u001b[0;34m)\u001b[0m\u001b[0;34m:\u001b[0m\u001b[0;34m\u001b[0m\u001b[0;34m\u001b[0m\u001b[0m\n\u001b[1;32m    616\u001b[0m             \u001b[0;32mimport\u001b[0m \u001b[0mnumpy\u001b[0m\u001b[0;34m.\u001b[0m\u001b[0mma\u001b[0m\u001b[0;34m.\u001b[0m\u001b[0mmrecords\u001b[0m \u001b[0;32mas\u001b[0m \u001b[0mmrecords\u001b[0m\u001b[0;34m\u001b[0m\u001b[0;34m\u001b[0m\u001b[0m\n",
      "\u001b[0;32m~/opt/anaconda3/envs/Math/lib/python3.10/site-packages/pandas/core/internals/construction.py\u001b[0m in \u001b[0;36mdict_to_mgr\u001b[0;34m(data, index, columns, dtype, typ, copy)\u001b[0m\n\u001b[1;32m    462\u001b[0m         \u001b[0;31m# TODO: can we get rid of the dt64tz special case above?\u001b[0m\u001b[0;34m\u001b[0m\u001b[0;34m\u001b[0m\u001b[0m\n\u001b[1;32m    463\u001b[0m \u001b[0;34m\u001b[0m\u001b[0m\n\u001b[0;32m--> 464\u001b[0;31m     return arrays_to_mgr(\n\u001b[0m\u001b[1;32m    465\u001b[0m         \u001b[0marrays\u001b[0m\u001b[0;34m,\u001b[0m \u001b[0mdata_names\u001b[0m\u001b[0;34m,\u001b[0m \u001b[0mindex\u001b[0m\u001b[0;34m,\u001b[0m \u001b[0mcolumns\u001b[0m\u001b[0;34m,\u001b[0m \u001b[0mdtype\u001b[0m\u001b[0;34m=\u001b[0m\u001b[0mdtype\u001b[0m\u001b[0;34m,\u001b[0m \u001b[0mtyp\u001b[0m\u001b[0;34m=\u001b[0m\u001b[0mtyp\u001b[0m\u001b[0;34m,\u001b[0m \u001b[0mconsolidate\u001b[0m\u001b[0;34m=\u001b[0m\u001b[0mcopy\u001b[0m\u001b[0;34m\u001b[0m\u001b[0;34m\u001b[0m\u001b[0m\n\u001b[1;32m    466\u001b[0m     )\n",
      "\u001b[0;32m~/opt/anaconda3/envs/Math/lib/python3.10/site-packages/pandas/core/internals/construction.py\u001b[0m in \u001b[0;36marrays_to_mgr\u001b[0;34m(arrays, arr_names, index, columns, dtype, verify_integrity, typ, consolidate)\u001b[0m\n\u001b[1;32m    117\u001b[0m         \u001b[0;31m# figure out the index, if necessary\u001b[0m\u001b[0;34m\u001b[0m\u001b[0;34m\u001b[0m\u001b[0m\n\u001b[1;32m    118\u001b[0m         \u001b[0;32mif\u001b[0m \u001b[0mindex\u001b[0m \u001b[0;32mis\u001b[0m \u001b[0;32mNone\u001b[0m\u001b[0;34m:\u001b[0m\u001b[0;34m\u001b[0m\u001b[0;34m\u001b[0m\u001b[0m\n\u001b[0;32m--> 119\u001b[0;31m             \u001b[0mindex\u001b[0m \u001b[0;34m=\u001b[0m \u001b[0m_extract_index\u001b[0m\u001b[0;34m(\u001b[0m\u001b[0marrays\u001b[0m\u001b[0;34m)\u001b[0m\u001b[0;34m\u001b[0m\u001b[0;34m\u001b[0m\u001b[0m\n\u001b[0m\u001b[1;32m    120\u001b[0m         \u001b[0;32melse\u001b[0m\u001b[0;34m:\u001b[0m\u001b[0;34m\u001b[0m\u001b[0;34m\u001b[0m\u001b[0m\n\u001b[1;32m    121\u001b[0m             \u001b[0mindex\u001b[0m \u001b[0;34m=\u001b[0m \u001b[0mensure_index\u001b[0m\u001b[0;34m(\u001b[0m\u001b[0mindex\u001b[0m\u001b[0;34m)\u001b[0m\u001b[0;34m\u001b[0m\u001b[0;34m\u001b[0m\u001b[0m\n",
      "\u001b[0;32m~/opt/anaconda3/envs/Math/lib/python3.10/site-packages/pandas/core/internals/construction.py\u001b[0m in \u001b[0;36m_extract_index\u001b[0;34m(data)\u001b[0m\n\u001b[1;32m    623\u001b[0m \u001b[0;34m\u001b[0m\u001b[0m\n\u001b[1;32m    624\u001b[0m         \u001b[0;32mif\u001b[0m \u001b[0;32mnot\u001b[0m \u001b[0mindexes\u001b[0m \u001b[0;32mand\u001b[0m \u001b[0;32mnot\u001b[0m \u001b[0mraw_lengths\u001b[0m\u001b[0;34m:\u001b[0m\u001b[0;34m\u001b[0m\u001b[0;34m\u001b[0m\u001b[0m\n\u001b[0;32m--> 625\u001b[0;31m             \u001b[0;32mraise\u001b[0m \u001b[0mValueError\u001b[0m\u001b[0;34m(\u001b[0m\u001b[0;34m\"If using all scalar values, you must pass an index\"\u001b[0m\u001b[0;34m)\u001b[0m\u001b[0;34m\u001b[0m\u001b[0;34m\u001b[0m\u001b[0m\n\u001b[0m\u001b[1;32m    626\u001b[0m \u001b[0;34m\u001b[0m\u001b[0m\n\u001b[1;32m    627\u001b[0m         \u001b[0;32mif\u001b[0m \u001b[0mhave_series\u001b[0m\u001b[0;34m:\u001b[0m\u001b[0;34m\u001b[0m\u001b[0;34m\u001b[0m\u001b[0m\n",
      "\u001b[0;31mValueError\u001b[0m: If using all scalar values, you must pass an index"
     ]
    }
   ],
   "source": [
    "pd_plinko = pd.DataFrame(points_plinko)"
   ]
  },
  {
   "cell_type": "code",
   "execution_count": 13,
   "id": "ee8ac196",
   "metadata": {},
   "outputs": [
    {
     "data": {
      "text/html": [
       "<div>\n",
       "<style scoped>\n",
       "    .dataframe tbody tr th:only-of-type {\n",
       "        vertical-align: middle;\n",
       "    }\n",
       "\n",
       "    .dataframe tbody tr th {\n",
       "        vertical-align: top;\n",
       "    }\n",
       "\n",
       "    .dataframe thead th {\n",
       "        text-align: right;\n",
       "    }\n",
       "</style>\n",
       "<table border=\"1\" class=\"dataframe\">\n",
       "  <thead>\n",
       "    <tr style=\"text-align: right;\">\n",
       "      <th></th>\n",
       "      <th>0</th>\n",
       "      <th>1</th>\n",
       "      <th>2</th>\n",
       "    </tr>\n",
       "  </thead>\n",
       "  <tbody>\n",
       "    <tr>\n",
       "      <th>0</th>\n",
       "      <td>-15.322570</td>\n",
       "      <td>-53.232780</td>\n",
       "      <td>-7.312856</td>\n",
       "    </tr>\n",
       "    <tr>\n",
       "      <th>1</th>\n",
       "      <td>-12.543880</td>\n",
       "      <td>-89.495811</td>\n",
       "      <td>-4.785268</td>\n",
       "    </tr>\n",
       "    <tr>\n",
       "      <th>2</th>\n",
       "      <td>122.517502</td>\n",
       "      <td>-40.080170</td>\n",
       "      <td>-4.971163</td>\n",
       "    </tr>\n",
       "    <tr>\n",
       "      <th>3</th>\n",
       "      <td>17.352520</td>\n",
       "      <td>103.420700</td>\n",
       "      <td>2.801514</td>\n",
       "    </tr>\n",
       "    <tr>\n",
       "      <th>4</th>\n",
       "      <td>130.405106</td>\n",
       "      <td>28.653009</td>\n",
       "      <td>-7.055602</td>\n",
       "    </tr>\n",
       "  </tbody>\n",
       "</table>\n",
       "</div>"
      ],
      "text/plain": [
       "            0           1         2\n",
       "0  -15.322570  -53.232780 -7.312856\n",
       "1  -12.543880  -89.495811 -4.785268\n",
       "2  122.517502  -40.080170 -4.971163\n",
       "3   17.352520  103.420700  2.801514\n",
       "4  130.405106   28.653009 -7.055602"
      ]
     },
     "execution_count": 13,
     "metadata": {},
     "output_type": "execute_result"
    }
   ],
   "source": [
    "pd_plinko.head()"
   ]
  },
  {
   "cell_type": "code",
   "execution_count": 24,
   "id": "eac37f04",
   "metadata": {},
   "outputs": [
    {
     "data": {
      "text/plain": [
       "-15.32257"
      ]
     },
     "execution_count": 24,
     "metadata": {},
     "output_type": "execute_result"
    }
   ],
   "source": [
    "sorted_pd_plinko = pd_plinko.sort_values(0)\n",
    "sorted_pd_plinko.reset_index(drop=True)"
   ]
  },
  {
   "cell_type": "code",
   "execution_count": 44,
   "id": "972c97e8",
   "metadata": {},
   "outputs": [
    {
     "data": {
      "text/plain": [
       "[<matplotlib.lines.Line2D at 0x17b2803a0>]"
      ]
     },
     "execution_count": 44,
     "metadata": {},
     "output_type": "execute_result"
    },
    {
     "data": {
      "image/png": "[encoded data removed]",
      "text/plain": [
       "<Figure size 432x288 with 1 Axes>"
      ]
     },
     "metadata": {
      "needs_background": "light"
     },
     "output_type": "display_data"
    }
   ],
   "source": [
    "plt.figure()\n",
    "plt.plot(sorted_pd_plinko[0], sorted_pd_plinko[1], \"o\")"
   ]
  },
  {
   "cell_type": "code",
   "execution_count": 32,
   "id": "3fd53f8e",
   "metadata": {},
   "outputs": [
    {
     "data": {
      "text/plain": [
       "-15.32257"
      ]
     },
     "execution_count": 32,
     "metadata": {},
     "output_type": "execute_result"
    }
   ],
   "source": []
  },
  {
   "cell_type": "code",
   "execution_count": null,
   "id": "92ce7062",
   "metadata": {},
   "outputs": [],
   "source": []
  }
 ],
 "metadata": {
  "kernelspec": {
   "display_name": "Python 3 (ipykernel)",
   "language": "python",
   "name": "python3"
  },
  "language_info": {
   "codemirror_mode": {
    "name": "ipython",
    "version": 3
   },
   "file_extension": ".py",
   "mimetype": "text/x-python",
   "name": "python",
   "nbconvert_exporter": "python",
   "pygments_lexer": "ipython3",
   "version": "3.10.2"
  }
 },
 "nbformat": 4,
 "nbformat_minor": 5
}
