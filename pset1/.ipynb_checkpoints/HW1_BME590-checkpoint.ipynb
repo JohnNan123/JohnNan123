{
 "cells": [
  {
   "cell_type": "code",
   "execution_count": 1,
   "metadata": {},
   "outputs": [],
   "source": [
    "import numpy as np\n",
    "import matplotlib.pyplot as plt\n",
    "from scipy.optimize import curve_fit"
   ]
  },
  {
   "cell_type": "markdown",
   "metadata": {},
   "source": [
    "# Question 1  \n",
    "### find the different gene that M table contains but A table not**\n",
    "**Read files**\n",
    "and export the data into readable format"
   ]
  },
  {
   "cell_type": "code",
   "execution_count": 2,
   "metadata": {},
   "outputs": [],
   "source": [
    "def read_file(filename):\n",
    "    list_of_file = []\n",
    "    file_wapper = open(filename, 'r')\n",
    "    for line in file_wapper:\n",
    "        list_of_file.append(line)\n",
    "    file_wapper.close\n",
    "    return list_of_file"
   ]
  },
  {
   "cell_type": "code",
   "execution_count": 3,
   "metadata": {},
   "outputs": [],
   "source": [
    "def tbl_to_dic(filename):\n",
    "    \"\"\"this function take file name as input (str) and use read file to collect the content of the file\n",
    "    and print them into a list. The list will be read element by element to collect information from.\n",
    "    the output will be dictionary with entry of to be named by gene\"\"\"\n",
    "    list_file = read_file(filename)\n",
    "    file_dic = {}\n",
    "    for line in list_file:\n",
    "        if line[0] == \"#\":\n",
    "            continue\n",
    "        else:\n",
    "            oneline = [x for x in line.split(' ') if x != '' and x != '\\n']\n",
    "            entry = oneline[0]\n",
    "            gene_express = []\n",
    "            for i in np.arange(len(oneline)-1)+1 :\n",
    "                gene_express.append(float(oneline[i]))\n",
    "            file_dic[entry] = gene_express\n",
    "    return file_dic"
   ]
  },
  {
   "cell_type": "code",
   "execution_count": 4,
   "metadata": {},
   "outputs": [],
   "source": [
    "file_M_name = 'Moriarty_SuppTable1.tbl'\n",
    "file_A_name = 'Adler_SuppTable2.tbl'\n",
    "dic_M = tbl_to_dic(file_M_name)\n",
    "dic_A = tbl_to_dic(file_A_name)"
   ]
  },
  {
   "cell_type": "markdown",
   "metadata": {},
   "source": [
    "**Find the different gene**  \n",
    "the following scan the entry of each dictionary and compare the content with the other one. \n",
    "the output result is exported to a list. "
   ]
  },
  {
   "cell_type": "code",
   "execution_count": 5,
   "metadata": {},
   "outputs": [],
   "source": [
    "def find_dif_gene(dicA, dicB):\n",
    "    dif_gene = []\n",
    "    for x in dicA:\n",
    "        count = 0\n",
    "        for y in dicB:\n",
    "            if x == y:\n",
    "                count = 1\n",
    "                break\n",
    "        if count == 0:\n",
    "            dif_gene.append(x)\n",
    "    return dif_gene"
   ]
  },
  {
   "cell_type": "code",
   "execution_count": 6,
   "metadata": {},
   "outputs": [
    {
     "name": "stdout",
     "output_type": "stream",
     "text": [
      "the excel error occurs on the following gene in M_table:  ['15-Sep', '2-Mar', '1-Mar', '10-Sep', '7-Mar', '4-Mar', '2-Sep', '11-Sep', '6-Mar', '11-Mar', '3-Mar', '8-Sep', '7-Sep', '14-Sep', '6-Sep', '1-Dec', '8-Mar', '5-Mar', '9-Mar', '12-Sep', '1-Sep', '4-Sep', '10-Mar', '9-Sep', '5-Sep', '3-Sep']\n",
      "the excel error occurs on the following gene in A_table:  ['SEPT7', 'MARCH10', 'SEPT12', 'SEPT4', 'MARCH7', 'SEPT11', 'MARCH1', 'MARCH9', 'SEPT10', 'MARCH11', 'SEPT6', 'MARC1', 'SEPT14', 'MARCH3', 'SEPT8', 'MARC2', 'SEPT9', 'SEPT2', 'MARCH2', 'MARCH6', 'SEPT1', 'SEPT5', 'MARCH4', 'SEP15', 'MARCH5', 'MARCH8', 'DEC1', 'SEPT3']\n"
     ]
    }
   ],
   "source": [
    "M_error = find_dif_gene (dic_M, dic_A)\n",
    "print('the excel error occurs on the following gene in M_table: ',M_error)\n",
    "A_error = find_dif_gene (dic_A, dic_M)\n",
    "print('the excel error occurs on the following gene in A_table: ',A_error)"
   ]
  },
  {
   "cell_type": "markdown",
   "metadata": {},
   "source": [
    "## Question 2\n",
    "_**dealing with Adler_SuppTable**_  \n",
    "export the top 5 gene with highest synthesis rate and halflife"
   ]
  },
  {
   "cell_type": "code",
   "execution_count": 7,
   "metadata": {},
   "outputs": [],
   "source": [
    "def get_top(input_dic, column_num, number_selected=5):\n",
    "    top_number = np.zeros(number_selected)\n",
    "    top_entry = []\n",
    "    for i in range(number_selected):\n",
    "        top_entry.append('0')\n",
    "    for entry in input_dic:\n",
    "        temp_num = input_dic[entry][column_num]\n",
    "        for i in np.arange(number_selected):\n",
    "            if temp_num > top_number[i]:\n",
    "                for j in np.arange(number_selected-1, i, -1):\n",
    "                    top_number[j] = top_number[j-1]\n",
    "                    top_entry[j] = top_entry[j-1]\n",
    "                top_number[i] = temp_num\n",
    "                top_entry[i] = entry\n",
    "                break\n",
    "    return top_entry, top_number\n"
   ]
  },
  {
   "cell_type": "code",
   "execution_count": 8,
   "metadata": {},
   "outputs": [
    {
     "name": "stdout",
     "output_type": "stream",
     "text": [
      "the top 5 gene in Adler_SuppTable with the highest synthesis rate is  ['SCT', 'TMEM2', 'CFAP100', 'RNASE7', 'MAPK10']\n",
      "and the corresponding number is  [174.5  87.5  83.1  78.3  62.8]\n"
     ]
    }
   ],
   "source": [
    "top_entry_A_SR, top_number_A_SR = get_top(dic_A, 0)\n",
    "print(\"the top 5 gene in Adler_SuppTable with the highest synthesis rate is \", top_entry_A_SR)\n",
    "print(\"and the corresponding number is \", top_number_A_SR)"
   ]
  },
  {
   "cell_type": "code",
   "execution_count": 9,
   "metadata": {},
   "outputs": [
    {
     "name": "stdout",
     "output_type": "stream",
     "text": [
      "the top 5 gene in Adler_SuppTable with the highest halflife is  ['GIN1', 'SELL', 'ERF', 'HNF1A', 'ECE2']\n",
      "and the corresponding number is  [66.3 62.5 59.2 56.8 56.8]\n"
     ]
    }
   ],
   "source": [
    "top_entry_A_HL, top_number_A_HL = get_top(dic_A, 1)\n",
    "print(\"the top 5 gene in Adler_SuppTable with the highest halflife is \", top_entry_A_HL)\n",
    "print(\"and the corresponding number is \", top_number_A_HL)"
   ]
  },
  {
   "cell_type": "markdown",
   "metadata": {},
   "source": [
    "_**dealing with Moriarty_SuppTable**_  \n",
    "export the top 5 gene with highest ratio at t = 96 over t = 0"
   ]
  },
  {
   "cell_type": "code",
   "execution_count": 10,
   "metadata": {},
   "outputs": [
    {
     "name": "stdout",
     "output_type": "stream",
     "text": [
      "the top 5 gene in Moriarty_SuppTable with the highest ratio of t=96 over t=0 is  ['GIN1', 'SELL', 'EIF4A1', 'HNF1A', 'ERF']\n",
      "and the corresponding number is  [26.44590668 25.47237941 22.62717058 19.75095785 18.95634174]\n"
     ]
    }
   ],
   "source": [
    "# add a new column of each data to the dataset to calculate the ratio\n",
    "dic_M_ratio = {}\n",
    "for entry in dic_M:\n",
    "    ratio = dic_M[entry][4]/ dic_M[entry][0]\n",
    "    dic_M_ratio[entry] = [ratio]\n",
    "top_entry_M_ratio, top_number_M_ratio = get_top(dic_M_ratio, 0)\n",
    "print(\"the top 5 gene in Moriarty_SuppTable with the highest ratio of t=96 over t=0 is \", top_entry_M_ratio)\n",
    "print(\"and the corresponding number is \", top_number_M_ratio)\n"
   ]
  },
  {
   "cell_type": "markdown",
   "metadata": {},
   "source": [
    "### Question 3\n",
    "_**merge the two table into one**_  \n",
    "Merge them by adding the information of A table to M table with respect to gene name.  \n",
    "Ignore the \"genes\" that are not appears in the same table. the output file should be  \n",
    "in format of whitespace delimited, column justified data line."
   ]
  },
  {
   "cell_type": "code",
   "execution_count": 11,
   "metadata": {},
   "outputs": [],
   "source": [
    "dic_to_write = {}\n",
    "for entry_A in dic_A:\n",
    "    try:\n",
    "        dic_M[entry_A] == dic_A[entry_A]\n",
    "    except:\n",
    "        continue\n",
    "    dic_to_write[entry_A] = dic_M[entry_A]+dic_A[entry_A]\n"
   ]
  },
  {
   "cell_type": "code",
   "execution_count": 12,
   "metadata": {},
   "outputs": [],
   "source": [
    "file = open('merged_data_MA.tbl', 'w')\n",
    "fl_content = [\"0h\", \"12h\", \"24h\", \"48h\", \"96h\", \"synth_rate\", \"halflife\"]\n",
    "first_line = \"# gene_name\".ljust(20, \" \")\n",
    "first_line += \" \".join(i.ljust(10, \" \") for i in fl_content) + \"\\n\"\n",
    "file.write(first_line)\n",
    "for entry in dic_to_write:\n",
    "    temp_line = entry.ljust(20, \" \") + \" \".join(str(i).ljust(10, \" \") for i in dic_to_write[entry]) + \"\\n\"\n",
    "    file.write(temp_line)\n",
    "file.close()"
   ]
  },
  {
   "cell_type": "markdown",
   "metadata": {},
   "source": [
    "_**explor the data to disprove the hypothesis**_"
   ]
  },
  {
   "cell_type": "code",
   "execution_count": 13,
   "metadata": {},
   "outputs": [
    {
     "name": "stdout",
     "output_type": "stream",
     "text": [
      "the top 20 gene in Moriarty_SuppTable with the highest ratio of t=96 over t=0 is  ['GIN1', 'SELL', 'EIF4A1', 'HNF1A', 'ERF', 'DRAM1', 'ECE2', 'TUFM', 'RTN4', 'TCF7', 'NUDT10', 'NXT1', 'NEUROD1', 'GPR160', 'PRM2', 'LCE1A', 'rhubarb', 'TNFSF4', 'RAD23B', 'TCTA']\n",
      "the top 20 gene in Adler_SuppTable with the highest halflife is  ['GIN1', 'SELL', 'ERF', 'HNF1A', 'ECE2', 'EIF4A1', 'GPR160', 'TUFM', 'TCF7', 'DRAM1', 'RTN4', 'NUDT10', 'rhubarb', 'LCE1A', 'PRM2', 'NXT1', 'NTN3', 'TCTA', 'C1orf167', 'CEBPG']\n"
     ]
    }
   ],
   "source": [
    "top_entry_M_ratio_20, top_number_M_ratio_20 = get_top(dic_M_ratio, 0, 20)\n",
    "print(\"the top 20 gene in Moriarty_SuppTable with the highest ratio of t=96 over t=0 is \", top_entry_M_ratio_20)\n",
    "top_entry_A_HL_20, top_number_A_HL_20 =  get_top(dic_A, 1, 20)\n",
    "print(\"the top 20 gene in Adler_SuppTable with the highest halflife is \", top_entry_A_HL_20)"
   ]
  },
  {
   "cell_type": "code",
   "execution_count": 14,
   "metadata": {},
   "outputs": [
    {
     "name": "stdout",
     "output_type": "stream",
     "text": [
      "the number of the 20 gene that have the highest ratio of gene express at t = 96 over t = 0 is : 17\n",
      "presentage is 85.0%\n"
     ]
    }
   ],
   "source": [
    "count = 0\n",
    "for x in top_entry_M_ratio_20:\n",
    "    for y in top_entry_A_HL_20:\n",
    "        if x == y:\n",
    "            count += 1\n",
    "print(\"the number of the 20 gene that have the highest ratio of gene express at t = 96 over t = 0 is :\",count)\n",
    "print(\"presentage is {}%\".format(count/20 * 100))"
   ]
  },
  {
   "cell_type": "code",
   "execution_count": 15,
   "metadata": {},
   "outputs": [
    {
     "name": "stdout",
     "output_type": "stream",
     "text": [
      "the number of the 20 gene that have the highest ratio of gene express at t = 48 over t = 0 is: 15\n",
      "presentage is 75.0%\n"
     ]
    }
   ],
   "source": [
    "# find the highest number of 48 hour over time 0\n",
    "dic_M_ratio_48 = {}\n",
    "for entry in dic_M:\n",
    "    ratio = dic_M[entry][3]/ dic_M[entry][0]\n",
    "    dic_M_ratio_48[entry] = [ratio]\n",
    "top_entry_M_48, top_number_M_48 = get_top(dic_M_ratio_48, 0, 20)\n",
    "# compare the number with halflife of the protein\n",
    "count = 0\n",
    "for x in top_entry_M_48:\n",
    "    for y in top_entry_A_HL_20:\n",
    "        if x == y:\n",
    "            count += 1\n",
    "print(\"the number of the 20 gene that have the highest ratio of gene express at t = 48 over t = 0 is:\",count)\n",
    "print(\"presentage is {}%\".format(count/20 * 100))"
   ]
  },
  {
   "cell_type": "code",
   "execution_count": 35,
   "metadata": {},
   "outputs": [
    {
     "name": "stdout",
     "output_type": "stream",
     "text": [
      "Among the top 100 genes with highest halflife, 92 of them also have highest ratio of t96 / t0\n"
     ]
    }
   ],
   "source": [
    "entry_ratio_100, number_ratio_100 = get_top(dic_M_ratio, 0, 100)\n",
    "entry_HL_100, number_HL_100 =  get_top(dic_A, 1, 100)\n",
    "normalized_ratio_100 = number_ratio_100 / np.average(number_ratio_100)\n",
    "normalized_HL_100 = number_HL_100 / np.average(number_HL_100)\n",
    "same_gene = {}\n",
    "for i in range(100):\n",
    "    for j in range(100):\n",
    "        if entry_ratio_100[i] == entry_HL_100[j]:\n",
    "            same_gene[entry_ratio_100[i]] = [number_ratio_100[i]]\n",
    "            same_gene[entry_ratio_100[i]].append(number_HL_100[j])\n",
    "print('Among the top 100 genes with highest halflife, {} of them\\\n",
    " also have highest ratio of t96 / t0'.format(len(same_gene)))"
   ]
  },
  {
   "cell_type": "code",
   "execution_count": 21,
   "metadata": {},
   "outputs": [],
   "source": [
    "def linear(x, a, b):\n",
    "    return a*x + b"
   ]
  },
  {
   "cell_type": "code",
   "execution_count": 27,
   "metadata": {
    "scrolled": true
   },
   "outputs": [
    {
     "data": {
      "image/png": "[encoded data removed]",
      "text/plain": [
       "<Figure size 640x480 with 1 Axes>"
      ]
     },
     "metadata": {},
     "output_type": "display_data"
    }
   ],
   "source": [
    "# this is why we need pandas\n",
    "same_ratio = []\n",
    "same_HL = []\n",
    "for entry in same_gene:\n",
    "    plt.scatter(same_gene[entry][0], same_gene[entry][1])\n",
    "    plt.annotate(entry, (same_gene[entry][0], same_gene[entry][1]), fontsize=4)\n",
    "    same_ratio.append(same_gene[entry][0])\n",
    "    same_HL.append(same_gene[entry][1])\n",
    "same_ratio = np.array(same_ratio)\n",
    "same_HL = np.array(same_HL)\n",
    "popt, pcov = curve_fit(linear, same_ratio, same_HL)\n",
    "plt.plot(same_ratio, linear(same_ratio, *popt), 'r-',\n",
    "         label='fit: a=%5.3f, b=%5.3f' % tuple(popt))\n",
    "plt.xlabel('ratio of t = 96 over t = 0')\n",
    "plt.ylabel('Halflife (h)')\n",
    "plt.legend()\n",
    "plt.show()"
   ]
  },
  {
   "cell_type": "code",
   "execution_count": 30,
   "metadata": {},
   "outputs": [
    {
     "name": "stdout",
     "output_type": "stream",
     "text": [
      "the R-sqare number of the curve fitting line is: 0.9458885159179123\n"
     ]
    }
   ],
   "source": [
    "# calculate R-square value of the curve fitting\n",
    "residuals = same_HL- linear(same_ratio, *popt)\n",
    "ss_res = np.sum(residuals**2)\n",
    "ss_tot = np.sum((same_HL-np.mean(same_HL))**2)\n",
    "r_squared = 1 - (ss_res / ss_tot)\n",
    "print(\"the R-sqare number of the curve fitting line is:\", r_squared)"
   ]
  },
  {
   "cell_type": "markdown",
   "metadata": {},
   "source": [
    "<span style=\"font-family:Times; font-size:1em; color:black\">The previous analysis suggests a strong relativity with RNA halflife and the ratio of expression level of time after death over the time at death. It is more likely the read of expression after death was RNA which produced before the death and have a longer half life thus still active instead of being expressed. </span>"
   ]
  },
  {
   "cell_type": "code",
   "execution_count": null,
   "metadata": {},
   "outputs": [],
   "source": []
  }
 ],
 "metadata": {
  "kernelspec": {
   "display_name": "Python 3",
   "language": "python",
   "name": "python3"
  },
  "language_info": {
   "codemirror_mode": {
    "name": "ipython",
    "version": 3
   },
   "file_extension": ".py",
   "mimetype": "text/x-python",
   "name": "python",
   "nbconvert_exporter": "python",
   "pygments_lexer": "ipython3",
   "version": "3.8.8"
  },
  "vscode": {
   "interpreter": {
    "hash": "ac74b973d8bad8198e88f906e26425d8dc7abbd56adb2f25299ae655b3a5cdbd"
   }
  }
 },
 "nbformat": 4,
 "nbformat_minor": 2
}
