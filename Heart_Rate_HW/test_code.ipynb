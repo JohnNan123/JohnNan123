{
 "cells": [
  {
   "cell_type": "code",
   "execution_count": 25,
   "id": "1f2d0260",
   "metadata": {},
   "outputs": [],
   "source": [
    "import numpy as np"
   ]
  },
  {
   "cell_type": "code",
   "execution_count": 24,
   "id": "65872583",
   "metadata": {},
   "outputs": [
    {
     "data": {
      "text/plain": [
       "5"
      ]
     },
     "execution_count": 24,
     "metadata": {},
     "output_type": "execute_result"
    }
   ],
   "source": [
    "one = {'id': 1}\n",
    "two = {'id': 2}\n",
    "three = {'id': [3,4,5,6]}"
   ]
  },
  {
   "cell_type": "code",
   "execution_count": 28,
   "id": "7fc3aac2",
   "metadata": {},
   "outputs": [
    {
     "name": "stdout",
     "output_type": "stream",
     "text": [
      "6.0\n"
     ]
    }
   ],
   "source": [
    "for num in three['id']:\n",
    "    if num <= 4:\n",
    "        ave = np.average(three['id'][num:])\n",
    "        break\n",
    "print(ave)"
   ]
  },
  {
   "cell_type": "code",
   "execution_count": 20,
   "id": "1ec02c8a",
   "metadata": {},
   "outputs": [],
   "source": [
    "db = [one, two]"
   ]
  },
  {
   "cell_type": "code",
   "execution_count": 21,
   "id": "b8bb1fd5",
   "metadata": {},
   "outputs": [],
   "source": [
    "for num in db: \n",
    "    if num['id'] == 2:\n",
    "        yes = num\n",
    "        yes['love'] = 'love'"
   ]
  },
  {
   "cell_type": "code",
   "execution_count": 22,
   "id": "d34b569f",
   "metadata": {},
   "outputs": [
    {
     "data": {
      "text/plain": [
       "[{'id': 1}, {'id': 2, 'love': 'love'}]"
      ]
     },
     "execution_count": 22,
     "metadata": {},
     "output_type": "execute_result"
    }
   ],
   "source": [
    "db"
   ]
  },
  {
   "cell_type": "code",
   "execution_count": 32,
   "id": "f77b5514",
   "metadata": {},
   "outputs": [
    {
     "name": "stdout",
     "output_type": "stream",
     "text": [
      "{'id': 2, 'love': 'love'}\n"
     ]
    }
   ],
   "source": [
    "if type(1) == int:\n",
    "    print(yes)"
   ]
  },
  {
   "cell_type": "code",
   "execution_count": null,
   "id": "26a2bc12",
   "metadata": {},
   "outputs": [],
   "source": []
  }
 ],
 "metadata": {
  "kernelspec": {
   "display_name": "Python 3.9.7 64-bit ('BME547': conda)",
   "language": "python",
   "name": "python397jvsc74a57bd0b875d927b1450847711710b81504a3af8de91a0ad79d4ea606669c9dd5d6d17b"
  },
  "language_info": {
   "codemirror_mode": {
    "name": "ipython",
    "version": 3
   },
   "file_extension": ".py",
   "mimetype": "text/x-python",
   "name": "python",
   "nbconvert_exporter": "python",
   "pygments_lexer": "ipython3",
   "version": "3.9.7"
  }
 },
 "nbformat": 4,
 "nbformat_minor": 5
}
